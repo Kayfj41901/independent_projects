{
 "cells": [
  {
   "cell_type": "code",
   "execution_count": 1,
   "id": "e02df8bd",
   "metadata": {},
   "outputs": [],
   "source": [
    "import pandas as pd\n",
    "import numpy as np \n",
    "import matplotlib.pyplot as plt \n",
    "import seaborn as sns\n"
   ]
  },
  {
   "cell_type": "markdown",
   "id": "4fed1cb1",
   "metadata": {},
   "source": [
    "### Acquire the Data "
   ]
  },
  {
   "cell_type": "code",
   "execution_count": 2,
   "id": "6999533b",
   "metadata": {},
   "outputs": [],
   "source": [
    "menu = pd.read_csv('India_Menu.csv')"
   ]
  },
  {
   "cell_type": "markdown",
   "id": "33d3a3af",
   "metadata": {},
   "source": [
    "### Clean the Data "
   ]
  },
  {
   "cell_type": "code",
   "execution_count": 3,
   "id": "dd058421",
   "metadata": {},
   "outputs": [
    {
     "data": {
      "text/plain": [
       "(141, 13)"
      ]
     },
     "execution_count": 3,
     "metadata": {},
     "output_type": "execute_result"
    }
   ],
   "source": [
    "menu.shape"
   ]
  },
  {
   "cell_type": "code",
   "execution_count": 4,
   "id": "578f4a51",
   "metadata": {},
   "outputs": [
    {
     "data": {
      "text/plain": [
       "Menu Category             0\n",
       "Menu Items                0\n",
       "Per Serve Size            0\n",
       "Energy (kCal)             0\n",
       "Protein (g)               0\n",
       "Total fat (g)             0\n",
       "Sat Fat (g)               0\n",
       "Trans fat (g)             0\n",
       "Cholesterols (mg)         0\n",
       "Total carbohydrate (g)    0\n",
       "Total Sugars (g)          0\n",
       "Added Sugars (g)          0\n",
       "Sodium (mg)               1\n",
       "dtype: int64"
      ]
     },
     "execution_count": 4,
     "metadata": {},
     "output_type": "execute_result"
    }
   ],
   "source": [
    "menu.isnull().sum()"
   ]
  },
  {
   "cell_type": "code",
   "execution_count": 5,
   "id": "200122d7",
   "metadata": {},
   "outputs": [
    {
     "data": {
      "text/html": [
       "<div>\n",
       "<style scoped>\n",
       "    .dataframe tbody tr th:only-of-type {\n",
       "        vertical-align: middle;\n",
       "    }\n",
       "\n",
       "    .dataframe tbody tr th {\n",
       "        vertical-align: top;\n",
       "    }\n",
       "\n",
       "    .dataframe thead th {\n",
       "        text-align: right;\n",
       "    }\n",
       "</style>\n",
       "<table border=\"1\" class=\"dataframe\">\n",
       "  <thead>\n",
       "    <tr style=\"text-align: right;\">\n",
       "      <th></th>\n",
       "      <th>Menu Category</th>\n",
       "      <th>Menu Items</th>\n",
       "      <th>Per Serve Size</th>\n",
       "      <th>Energy (kCal)</th>\n",
       "      <th>Protein (g)</th>\n",
       "      <th>Total fat (g)</th>\n",
       "      <th>Sat Fat (g)</th>\n",
       "      <th>Trans fat (g)</th>\n",
       "      <th>Cholesterols (mg)</th>\n",
       "      <th>Total carbohydrate (g)</th>\n",
       "      <th>Total Sugars (g)</th>\n",
       "      <th>Added Sugars (g)</th>\n",
       "      <th>Sodium (mg)</th>\n",
       "    </tr>\n",
       "  </thead>\n",
       "  <tbody>\n",
       "    <tr>\n",
       "      <th>0</th>\n",
       "      <td>Regular Menu</td>\n",
       "      <td>McVeggie™ Burger</td>\n",
       "      <td>168 g</td>\n",
       "      <td>402.05</td>\n",
       "      <td>10.24</td>\n",
       "      <td>13.83</td>\n",
       "      <td>5.34</td>\n",
       "      <td>0.16</td>\n",
       "      <td>2.49</td>\n",
       "      <td>56.54</td>\n",
       "      <td>7.90</td>\n",
       "      <td>4.49</td>\n",
       "      <td>706.13</td>\n",
       "    </tr>\n",
       "    <tr>\n",
       "      <th>1</th>\n",
       "      <td>Regular Menu</td>\n",
       "      <td>McAloo Tikki Burger®</td>\n",
       "      <td>146 g</td>\n",
       "      <td>339.52</td>\n",
       "      <td>8.50</td>\n",
       "      <td>11.31</td>\n",
       "      <td>4.27</td>\n",
       "      <td>0.20</td>\n",
       "      <td>1.47</td>\n",
       "      <td>50.27</td>\n",
       "      <td>7.05</td>\n",
       "      <td>4.07</td>\n",
       "      <td>545.34</td>\n",
       "    </tr>\n",
       "    <tr>\n",
       "      <th>2</th>\n",
       "      <td>Regular Menu</td>\n",
       "      <td>McSpicy™ Paneer Burger</td>\n",
       "      <td>199 g</td>\n",
       "      <td>652.76</td>\n",
       "      <td>20.29</td>\n",
       "      <td>39.45</td>\n",
       "      <td>17.12</td>\n",
       "      <td>0.18</td>\n",
       "      <td>21.85</td>\n",
       "      <td>52.33</td>\n",
       "      <td>8.35</td>\n",
       "      <td>5.27</td>\n",
       "      <td>1074.58</td>\n",
       "    </tr>\n",
       "    <tr>\n",
       "      <th>3</th>\n",
       "      <td>Regular Menu</td>\n",
       "      <td>Spicy Paneer Wrap</td>\n",
       "      <td>250 g</td>\n",
       "      <td>674.68</td>\n",
       "      <td>20.96</td>\n",
       "      <td>39.10</td>\n",
       "      <td>19.73</td>\n",
       "      <td>0.26</td>\n",
       "      <td>40.93</td>\n",
       "      <td>59.27</td>\n",
       "      <td>3.50</td>\n",
       "      <td>1.08</td>\n",
       "      <td>1087.46</td>\n",
       "    </tr>\n",
       "    <tr>\n",
       "      <th>4</th>\n",
       "      <td>Regular Menu</td>\n",
       "      <td>American Veg Burger</td>\n",
       "      <td>177 g</td>\n",
       "      <td>512.17</td>\n",
       "      <td>15.30</td>\n",
       "      <td>23.45</td>\n",
       "      <td>10.51</td>\n",
       "      <td>0.17</td>\n",
       "      <td>25.24</td>\n",
       "      <td>56.96</td>\n",
       "      <td>7.85</td>\n",
       "      <td>4.76</td>\n",
       "      <td>1051.24</td>\n",
       "    </tr>\n",
       "  </tbody>\n",
       "</table>\n",
       "</div>"
      ],
      "text/plain": [
       "  Menu Category              Menu Items Per Serve Size  Energy (kCal)  \\\n",
       "0  Regular Menu        McVeggie™ Burger          168 g         402.05   \n",
       "1  Regular Menu    McAloo Tikki Burger®          146 g         339.52   \n",
       "2  Regular Menu  McSpicy™ Paneer Burger          199 g         652.76   \n",
       "3  Regular Menu       Spicy Paneer Wrap          250 g         674.68   \n",
       "4  Regular Menu     American Veg Burger          177 g         512.17   \n",
       "\n",
       "   Protein (g)  Total fat (g)  Sat Fat (g)  Trans fat (g)  Cholesterols (mg)  \\\n",
       "0        10.24          13.83         5.34           0.16               2.49   \n",
       "1         8.50          11.31         4.27           0.20               1.47   \n",
       "2        20.29          39.45        17.12           0.18              21.85   \n",
       "3        20.96          39.10        19.73           0.26              40.93   \n",
       "4        15.30          23.45        10.51           0.17              25.24   \n",
       "\n",
       "   Total carbohydrate (g)  Total Sugars (g)  Added Sugars (g)  Sodium (mg)  \n",
       "0                   56.54              7.90              4.49       706.13  \n",
       "1                   50.27              7.05              4.07       545.34  \n",
       "2                   52.33              8.35              5.27      1074.58  \n",
       "3                   59.27              3.50              1.08      1087.46  \n",
       "4                   56.96              7.85              4.76      1051.24  "
      ]
     },
     "execution_count": 5,
     "metadata": {},
     "output_type": "execute_result"
    }
   ],
   "source": [
    "menu.head()"
   ]
  },
  {
   "cell_type": "code",
   "execution_count": 6,
   "id": "54beed7c",
   "metadata": {},
   "outputs": [
    {
     "data": {
      "text/html": [
       "<div>\n",
       "<style scoped>\n",
       "    .dataframe tbody tr th:only-of-type {\n",
       "        vertical-align: middle;\n",
       "    }\n",
       "\n",
       "    .dataframe tbody tr th {\n",
       "        vertical-align: top;\n",
       "    }\n",
       "\n",
       "    .dataframe thead th {\n",
       "        text-align: right;\n",
       "    }\n",
       "</style>\n",
       "<table border=\"1\" class=\"dataframe\">\n",
       "  <thead>\n",
       "    <tr style=\"text-align: right;\">\n",
       "      <th></th>\n",
       "      <th>Energy (kCal)</th>\n",
       "      <th>Protein (g)</th>\n",
       "      <th>Total fat (g)</th>\n",
       "      <th>Sat Fat (g)</th>\n",
       "      <th>Trans fat (g)</th>\n",
       "      <th>Cholesterols (mg)</th>\n",
       "      <th>Total carbohydrate (g)</th>\n",
       "      <th>Total Sugars (g)</th>\n",
       "      <th>Added Sugars (g)</th>\n",
       "      <th>Sodium (mg)</th>\n",
       "    </tr>\n",
       "  </thead>\n",
       "  <tbody>\n",
       "    <tr>\n",
       "      <th>count</th>\n",
       "      <td>141.000000</td>\n",
       "      <td>141.000000</td>\n",
       "      <td>141.000000</td>\n",
       "      <td>141.000000</td>\n",
       "      <td>141.000000</td>\n",
       "      <td>141.000000</td>\n",
       "      <td>141.000000</td>\n",
       "      <td>141.000000</td>\n",
       "      <td>141.000000</td>\n",
       "      <td>140.000000</td>\n",
       "    </tr>\n",
       "    <tr>\n",
       "      <th>mean</th>\n",
       "      <td>244.635461</td>\n",
       "      <td>7.493546</td>\n",
       "      <td>9.991702</td>\n",
       "      <td>4.997589</td>\n",
       "      <td>0.687163</td>\n",
       "      <td>26.350071</td>\n",
       "      <td>31.190284</td>\n",
       "      <td>15.464894</td>\n",
       "      <td>10.336950</td>\n",
       "      <td>362.064143</td>\n",
       "    </tr>\n",
       "    <tr>\n",
       "      <th>std</th>\n",
       "      <td>185.554837</td>\n",
       "      <td>8.336863</td>\n",
       "      <td>10.339511</td>\n",
       "      <td>4.900451</td>\n",
       "      <td>6.326136</td>\n",
       "      <td>50.334200</td>\n",
       "      <td>20.602044</td>\n",
       "      <td>15.690202</td>\n",
       "      <td>14.283388</td>\n",
       "      <td>473.160490</td>\n",
       "    </tr>\n",
       "    <tr>\n",
       "      <th>min</th>\n",
       "      <td>0.000000</td>\n",
       "      <td>0.000000</td>\n",
       "      <td>0.000000</td>\n",
       "      <td>0.000000</td>\n",
       "      <td>0.000000</td>\n",
       "      <td>0.000000</td>\n",
       "      <td>0.000000</td>\n",
       "      <td>0.000000</td>\n",
       "      <td>0.000000</td>\n",
       "      <td>0.000000</td>\n",
       "    </tr>\n",
       "    <tr>\n",
       "      <th>25%</th>\n",
       "      <td>116.360000</td>\n",
       "      <td>0.650000</td>\n",
       "      <td>0.460000</td>\n",
       "      <td>0.280000</td>\n",
       "      <td>0.060000</td>\n",
       "      <td>1.510000</td>\n",
       "      <td>15.740000</td>\n",
       "      <td>2.330000</td>\n",
       "      <td>0.000000</td>\n",
       "      <td>43.895000</td>\n",
       "    </tr>\n",
       "    <tr>\n",
       "      <th>50%</th>\n",
       "      <td>219.360000</td>\n",
       "      <td>4.790000</td>\n",
       "      <td>7.770000</td>\n",
       "      <td>4.270000</td>\n",
       "      <td>0.150000</td>\n",
       "      <td>8.390000</td>\n",
       "      <td>30.820000</td>\n",
       "      <td>9.160000</td>\n",
       "      <td>3.640000</td>\n",
       "      <td>152.025000</td>\n",
       "    </tr>\n",
       "    <tr>\n",
       "      <th>75%</th>\n",
       "      <td>339.520000</td>\n",
       "      <td>10.880000</td>\n",
       "      <td>14.160000</td>\n",
       "      <td>7.280000</td>\n",
       "      <td>0.220000</td>\n",
       "      <td>31.110000</td>\n",
       "      <td>46.000000</td>\n",
       "      <td>26.950000</td>\n",
       "      <td>19.230000</td>\n",
       "      <td>534.240000</td>\n",
       "    </tr>\n",
       "    <tr>\n",
       "      <th>max</th>\n",
       "      <td>834.360000</td>\n",
       "      <td>39.470000</td>\n",
       "      <td>45.180000</td>\n",
       "      <td>20.460000</td>\n",
       "      <td>75.260000</td>\n",
       "      <td>302.610000</td>\n",
       "      <td>93.840000</td>\n",
       "      <td>64.220000</td>\n",
       "      <td>64.220000</td>\n",
       "      <td>2399.490000</td>\n",
       "    </tr>\n",
       "  </tbody>\n",
       "</table>\n",
       "</div>"
      ],
      "text/plain": [
       "       Energy (kCal)  Protein (g)  Total fat (g)  Sat Fat (g)  Trans fat (g)  \\\n",
       "count     141.000000   141.000000     141.000000   141.000000     141.000000   \n",
       "mean      244.635461     7.493546       9.991702     4.997589       0.687163   \n",
       "std       185.554837     8.336863      10.339511     4.900451       6.326136   \n",
       "min         0.000000     0.000000       0.000000     0.000000       0.000000   \n",
       "25%       116.360000     0.650000       0.460000     0.280000       0.060000   \n",
       "50%       219.360000     4.790000       7.770000     4.270000       0.150000   \n",
       "75%       339.520000    10.880000      14.160000     7.280000       0.220000   \n",
       "max       834.360000    39.470000      45.180000    20.460000      75.260000   \n",
       "\n",
       "       Cholesterols (mg)  Total carbohydrate (g)  Total Sugars (g)  \\\n",
       "count         141.000000              141.000000        141.000000   \n",
       "mean           26.350071               31.190284         15.464894   \n",
       "std            50.334200               20.602044         15.690202   \n",
       "min             0.000000                0.000000          0.000000   \n",
       "25%             1.510000               15.740000          2.330000   \n",
       "50%             8.390000               30.820000          9.160000   \n",
       "75%            31.110000               46.000000         26.950000   \n",
       "max           302.610000               93.840000         64.220000   \n",
       "\n",
       "       Added Sugars (g)  Sodium (mg)  \n",
       "count        141.000000   140.000000  \n",
       "mean          10.336950   362.064143  \n",
       "std           14.283388   473.160490  \n",
       "min            0.000000     0.000000  \n",
       "25%            0.000000    43.895000  \n",
       "50%            3.640000   152.025000  \n",
       "75%           19.230000   534.240000  \n",
       "max           64.220000  2399.490000  "
      ]
     },
     "execution_count": 6,
     "metadata": {},
     "output_type": "execute_result"
    }
   ],
   "source": [
    "menu.describe()"
   ]
  },
  {
   "cell_type": "code",
   "execution_count": 7,
   "id": "a46eb8b9",
   "metadata": {},
   "outputs": [
    {
     "data": {
      "text/plain": [
       "39.47"
      ]
     },
     "execution_count": 7,
     "metadata": {},
     "output_type": "execute_result"
    }
   ],
   "source": [
    "menu['Protein (g)'].max()"
   ]
  },
  {
   "cell_type": "code",
   "execution_count": 8,
   "id": "e87eac2d",
   "metadata": {},
   "outputs": [
    {
     "data": {
      "text/plain": [
       "45.18"
      ]
     },
     "execution_count": 8,
     "metadata": {},
     "output_type": "execute_result"
    }
   ],
   "source": [
    "menu['Total fat (g)'].max()"
   ]
  },
  {
   "cell_type": "code",
   "execution_count": 9,
   "id": "5eeb5ad7",
   "metadata": {},
   "outputs": [
    {
     "data": {
      "text/plain": [
       "20.46"
      ]
     },
     "execution_count": 9,
     "metadata": {},
     "output_type": "execute_result"
    }
   ],
   "source": [
    "menu['Sat Fat (g)'].max()"
   ]
  },
  {
   "cell_type": "code",
   "execution_count": 10,
   "id": "c9f2b67f",
   "metadata": {},
   "outputs": [
    {
     "data": {
      "text/plain": [
       "75.26"
      ]
     },
     "execution_count": 10,
     "metadata": {},
     "output_type": "execute_result"
    }
   ],
   "source": [
    "menu['Trans fat (g)'].max()"
   ]
  },
  {
   "cell_type": "code",
   "execution_count": null,
   "id": "c91870ca",
   "metadata": {},
   "outputs": [],
   "source": []
  },
  {
   "cell_type": "code",
   "execution_count": null,
   "id": "754694f8",
   "metadata": {},
   "outputs": [],
   "source": []
  },
  {
   "cell_type": "code",
   "execution_count": null,
   "id": "1db4a37b",
   "metadata": {},
   "outputs": [],
   "source": []
  },
  {
   "cell_type": "code",
   "execution_count": null,
   "id": "1b0a66a5",
   "metadata": {},
   "outputs": [],
   "source": []
  },
  {
   "cell_type": "code",
   "execution_count": null,
   "id": "83b74f0d",
   "metadata": {},
   "outputs": [],
   "source": []
  },
  {
   "cell_type": "code",
   "execution_count": null,
   "id": "6ab7eb09",
   "metadata": {},
   "outputs": [],
   "source": []
  },
  {
   "cell_type": "code",
   "execution_count": null,
   "id": "4139fc21",
   "metadata": {},
   "outputs": [],
   "source": []
  },
  {
   "cell_type": "code",
   "execution_count": null,
   "id": "bb5f3029",
   "metadata": {},
   "outputs": [],
   "source": []
  },
  {
   "cell_type": "code",
   "execution_count": null,
   "id": "8894997b",
   "metadata": {},
   "outputs": [],
   "source": []
  },
  {
   "cell_type": "code",
   "execution_count": null,
   "id": "c53dba49",
   "metadata": {},
   "outputs": [],
   "source": []
  },
  {
   "cell_type": "code",
   "execution_count": null,
   "id": "fbeb2590",
   "metadata": {},
   "outputs": [],
   "source": []
  },
  {
   "cell_type": "code",
   "execution_count": null,
   "id": "e7e7df5a",
   "metadata": {},
   "outputs": [],
   "source": []
  },
  {
   "cell_type": "code",
   "execution_count": null,
   "id": "f20646ae",
   "metadata": {},
   "outputs": [],
   "source": []
  },
  {
   "cell_type": "code",
   "execution_count": null,
   "id": "1d8e9af9",
   "metadata": {},
   "outputs": [],
   "source": []
  },
  {
   "cell_type": "code",
   "execution_count": null,
   "id": "2ba00937",
   "metadata": {},
   "outputs": [],
   "source": []
  },
  {
   "cell_type": "code",
   "execution_count": null,
   "id": "4db7d10d",
   "metadata": {},
   "outputs": [],
   "source": []
  },
  {
   "cell_type": "code",
   "execution_count": null,
   "id": "f13f0172",
   "metadata": {},
   "outputs": [],
   "source": []
  },
  {
   "cell_type": "code",
   "execution_count": null,
   "id": "81d7271b",
   "metadata": {},
   "outputs": [],
   "source": []
  },
  {
   "cell_type": "code",
   "execution_count": null,
   "id": "936561d4",
   "metadata": {},
   "outputs": [],
   "source": []
  },
  {
   "cell_type": "code",
   "execution_count": null,
   "id": "b156f362",
   "metadata": {},
   "outputs": [],
   "source": []
  },
  {
   "cell_type": "code",
   "execution_count": null,
   "id": "8b3714eb",
   "metadata": {},
   "outputs": [],
   "source": []
  },
  {
   "cell_type": "code",
   "execution_count": null,
   "id": "2566fb04",
   "metadata": {},
   "outputs": [],
   "source": []
  }
 ],
 "metadata": {
  "kernelspec": {
   "display_name": "Python 3 (ipykernel)",
   "language": "python",
   "name": "python3"
  },
  "language_info": {
   "codemirror_mode": {
    "name": "ipython",
    "version": 3
   },
   "file_extension": ".py",
   "mimetype": "text/x-python",
   "name": "python",
   "nbconvert_exporter": "python",
   "pygments_lexer": "ipython3",
   "version": "3.9.7"
  }
 },
 "nbformat": 4,
 "nbformat_minor": 5
}
